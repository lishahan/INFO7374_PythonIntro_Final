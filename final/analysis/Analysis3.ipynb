{
 "cells": [
  {
   "cell_type": "markdown",
   "metadata": {},
   "source": [
    "# Use self-trained  analyzer to do sentiment analyze on tweets\n",
    "### 1. Train a sentiment classifier, test it and store it for future use\n",
    "### 2. Build trainer from nltk.corpus movie_reviews, positive&negative dataset from yelp and amazon\n",
    "### 3. Test the accuracy of classifier and store it\n",
    "### 4. Pick six related keywords of United Airline incident and see what people are complain or praise about\n",
    "### 5. Use this well trained classifier to check the tweets from people "
   ]
  },
  {
   "cell_type": "code",
   "execution_count": 195,
   "metadata": {
    "collapsed": true
   },
   "outputs": [],
   "source": [
    "from nltk.corpus import movie_reviews\n",
    "from nltk import precision\n",
    "import nltk.metrics\n",
    "from textblob.classifiers import NaiveBayesClassifier\n",
    "from textblob import TextBlob\n",
    "import collections\n",
    "import random\n",
    "import matplotlib.pyplot as plt\n",
    "import numpy as np\n",
    "import matplotlib.axes\n",
    "import pickle\n",
    "import pandas as pd\n",
    "from pandas import DataFrame, Series\n",
    "import re\n",
    "import matplotlib.patches as mpatches"
   ]
  },
  {
   "cell_type": "markdown",
   "metadata": {},
   "source": [
    "# 1. Train a sentiment classifier, test it and store it for future use\n",
    "#### Build trainer from nltk.corpus movie_reviews, positive&negative dataset from yelp and amazon"
   ]
  },
  {
   "cell_type": "code",
   "execution_count": 196,
   "metadata": {
    "collapsed": false
   },
   "outputs": [],
   "source": [
    "# Grab some movie review data\n",
    "reviews = [(list(movie_reviews.words(fileid)), category)\n",
    "              for category in movie_reviews.categories()\n",
    "              for fileid in movie_reviews.fileids(category)]\n",
    "random.shuffle(reviews)\n",
    "train_movies = reviews[0:200]"
   ]
  },
  {
   "cell_type": "code",
   "execution_count": 197,
   "metadata": {
    "collapsed": true
   },
   "outputs": [],
   "source": [
    "# function to get list of (word, pos) or (word, neg) tuples\n",
    "def get_list(d):\n",
    "    t=d.split('\\n')\n",
    "    list_train=[]\n",
    "    for line in t:\n",
    "        i=[]\n",
    "        i=line.split('\\t')\n",
    "        if i!=['']:\n",
    "            if i[1]=='0':\n",
    "                i[1]='neg'\n",
    "            else:\n",
    "                i[1]='pos'\n",
    "            list_train.append((i[0],i[1]))\n",
    "    return list_train"
   ]
  },
  {
   "cell_type": "code",
   "execution_count": 198,
   "metadata": {
    "collapsed": false
   },
   "outputs": [],
   "source": [
    "file1 = open('/Users/lisha/Desktop/Final/Data/sentiment_labelled_sentences/yelp_labelled.txt', 'r')\n",
    "file2 = open('/Users/lisha/Desktop/Final/Data/sentiment_labelled_sentences/amazon_cells_labelled.txt', 'r')\n",
    "file3=open('/Users/lisha/Desktop/Final/Data/sentiment_labelled_sentences/imdb_labelled.txt', 'r')\n",
    "d1=file1.read()\n",
    "d2=file2.read()\n",
    "d3=file3.read()\n",
    "list_train1=get_list(d1)\n",
    "list_train2=get_list(d2)\n",
    "list_train3=get_list(d3)"
   ]
  },
  {
   "cell_type": "markdown",
   "metadata": {},
   "source": [
    "### Train the classifier and save it as classifier.pickle for future use."
   ]
  },
  {
   "cell_type": "code",
   "execution_count": 199,
   "metadata": {
    "collapsed": true
   },
   "outputs": [],
   "source": [
    "classifier = NaiveBayesClassifier(list_train1)"
   ]
  },
  {
   "cell_type": "code",
   "execution_count": 200,
   "metadata": {
    "collapsed": false
   },
   "outputs": [
    {
     "data": {
      "text/plain": [
       "True"
      ]
     },
     "execution_count": 200,
     "metadata": {},
     "output_type": "execute_result"
    }
   ],
   "source": [
    "classifier.update(train_movies)"
   ]
  },
  {
   "cell_type": "code",
   "execution_count": 8,
   "metadata": {
    "collapsed": false
   },
   "outputs": [
    {
     "data": {
      "text/plain": [
       "True"
      ]
     },
     "execution_count": 8,
     "metadata": {},
     "output_type": "execute_result"
    }
   ],
   "source": [
    "classifier.update(list_train2)"
   ]
  },
  {
   "cell_type": "code",
   "execution_count": 16,
   "metadata": {
    "collapsed": false
   },
   "outputs": [
    {
     "data": {
      "text/plain": [
       "True"
      ]
     },
     "execution_count": 16,
     "metadata": {},
     "output_type": "execute_result"
    }
   ],
   "source": [
    "classifier.update(list_train3)"
   ]
  },
  {
   "cell_type": "code",
   "execution_count": 201,
   "metadata": {
    "collapsed": true
   },
   "outputs": [],
   "source": [
    "save_classifier = open(\"/Users/lisha/Desktop/Final/classifier_lisha.pickle\",\"wb\")\n",
    "pickle.dump(classifier, save_classifier)\n",
    "save_classifier.close()"
   ]
  },
  {
   "cell_type": "code",
   "execution_count": 203,
   "metadata": {
    "collapsed": false
   },
   "outputs": [
    {
     "data": {
      "text/plain": [
       "'pos'"
      ]
     },
     "execution_count": 203,
     "metadata": {},
     "output_type": "execute_result"
    }
   ],
   "source": [
    "classifier.classify(\"this is not bad\") "
   ]
  },
  {
   "cell_type": "markdown",
   "metadata": {},
   "source": [
    "# 3. Test the accuracy of classifier"
   ]
  },
  {
   "cell_type": "code",
   "execution_count": 7,
   "metadata": {
    "collapsed": false
   },
   "outputs": [],
   "source": [
    "classifier_f = open(\"/Users/lisha/Desktop/Final/classifier_lisha.pickle\", \"rb\")\n",
    "classifier = pickle.load(classifier_f)\n",
    "classifier_f.close()"
   ]
  },
  {
   "cell_type": "code",
   "execution_count": 19,
   "metadata": {
    "collapsed": true
   },
   "outputs": [],
   "source": [
    "def word_feats(words):\n",
    "    return dict([(word, True) for word in words])"
   ]
  },
  {
   "cell_type": "code",
   "execution_count": 20,
   "metadata": {
    "collapsed": false
   },
   "outputs": [],
   "source": [
    "negids = movie_reviews.fileids('neg')\n",
    "posids = movie_reviews.fileids('pos')\n",
    "negfeats = [(word_feats(movie_reviews.words(fileids=[f])), 'neg') for f in negids]\n",
    "posfeats = [(word_feats(movie_reviews.words(fileids=[f])), 'pos') for f in posids]\n",
    "negcutoff = int(len(negfeats)*3/4)\n",
    "poscutoff = int(len(posfeats)*3/4)"
   ]
  },
  {
   "cell_type": "code",
   "execution_count": 21,
   "metadata": {
    "collapsed": true
   },
   "outputs": [],
   "source": [
    "trainfeats = negfeats[:negcutoff] + posfeats[:poscutoff]\n",
    "testfeats = negfeats[negcutoff:] + posfeats[poscutoff:]\n",
    "refsets = collections.defaultdict(set)\n",
    "testsets = collections.defaultdict(set)"
   ]
  },
  {
   "cell_type": "code",
   "execution_count": 204,
   "metadata": {
    "collapsed": false,
    "scrolled": true
   },
   "outputs": [],
   "source": [
    "for i, (feats, label) in enumerate(testfeats):\n",
    "    refsets[label].add(i)\n",
    "    observed = classifier.classify(feats)\n",
    "    testsets[observed].add(i)"
   ]
  },
  {
   "cell_type": "code",
   "execution_count": 448,
   "metadata": {
    "collapsed": false,
    "scrolled": true
   },
   "outputs": [
    {
     "name": "stdout",
     "output_type": "stream",
     "text": [
      "train on 1500 instances, test on 500 instances\n",
      "pos precision: 0.9013157894736842\n",
      "pos recall: 0.548\n",
      "pos F-measure: 0.681592039800995\n",
      "neg precision: 0.9213134995736857\n",
      "neg recall: 0.493\n",
      "neg F-measure: 0.7042253521126761\n"
     ]
    }
   ],
   "source": [
    "print ('train on %d instances, test on %d instances' % (len(trainfeats), len(testfeats)))\n",
    "print ('pos precision:', precision(refsets['pos'], testsets['pos']))\n",
    "print ('pos recall:', recall(refsets['pos'], testsets['pos']))\n",
    "print ('pos F-measure:', f_measure(refsets['pos'], testsets['pos']))\n",
    "print ('neg precision:', precision(refsets['neg'], testsets['neg'])\n",
    "print ('neg recall:', recall(refsets['neg'], testsets['neg'])\n",
    "print ('neg F-measure:', f_measure(refsets['neg'], testsets['neg']))"
   ]
  },
  {
   "cell_type": "markdown",
   "metadata": {},
   "source": [
    "# 4. Pick six related keywords of United Airline incident and see what people are complain or praise about"
   ]
  },
  {
   "cell_type": "markdown",
   "metadata": {},
   "source": [
    "### Get rid of the tweets that have nothing to do with these keywords"
   ]
  },
  {
   "cell_type": "code",
   "execution_count": 44,
   "metadata": {
    "collapsed": true
   },
   "outputs": [],
   "source": [
    "def remove_http(x):\n",
    "    x=re.sub(r'http\\S+', '', x, flags=re.MULTILINE)\n",
    "    return x "
   ]
  },
  {
   "cell_type": "code",
   "execution_count": 309,
   "metadata": {
    "collapsed": true
   },
   "outputs": [],
   "source": [
    "def get_united(x):\n",
    "    if 'united' in x.lower():\n",
    "        return 1\n",
    "    else:\n",
    "        return 0\n",
    "def get_flight(x):\n",
    "    if 'flight' in x.lower():\n",
    "        return 1\n",
    "    else:\n",
    "        return 0\n",
    "def get_passenger(x):\n",
    "    if 'passenger' in x.lower():\n",
    "        return 1\n",
    "    else:\n",
    "        return 0\n",
    "def get_airline(x):\n",
    "    if 'airline' in x.lower():\n",
    "        return 1\n",
    "    else:\n",
    "        return 0\n",
    "def get_ceo(x):\n",
    "    if 'ceo' in x.lower():\n",
    "        return 1\n",
    "    else:\n",
    "        return 0\n",
    "def get_overbook(x):\n",
    "    if 'overbook' in x.lower():\n",
    "        return 1\n",
    "    else:\n",
    "        return 0"
   ]
  },
  {
   "cell_type": "code",
   "execution_count": 206,
   "metadata": {
    "collapsed": true
   },
   "outputs": [],
   "source": [
    "list_key=['united','flight','passenger','airline','ceo','overbook']"
   ]
  },
  {
   "cell_type": "code",
   "execution_count": 310,
   "metadata": {
    "collapsed": false
   },
   "outputs": [],
   "source": [
    "df = pd.read_csv('Data/Data_Clean/Tweets_withINFO.csv')\n",
    "df1=df.drop_duplicates()\n",
    "df0=df1.fillna(value=0)\n",
    "df0['text']=df0['text'].apply(lambda x: remove_http(x))"
   ]
  },
  {
   "cell_type": "code",
   "execution_count": 311,
   "metadata": {
    "collapsed": false
   },
   "outputs": [
    {
     "data": {
      "text/plain": [
       "50649"
      ]
     },
     "execution_count": 311,
     "metadata": {},
     "output_type": "execute_result"
    }
   ],
   "source": [
    "len(df0)"
   ]
  },
  {
   "cell_type": "code",
   "execution_count": 312,
   "metadata": {
    "collapsed": false
   },
   "outputs": [],
   "source": [
    "df0['united']=df0['text'].apply(lambda x: get_united(x))\n",
    "df0['flight']=df0['text'].apply(lambda x: get_flight(x))\n",
    "df0['passenger']=df0['text'].apply(lambda x: get_passenger(x))\n",
    "df0['airline']=df0['text'].apply(lambda x: get_airline(x))\n",
    "df0['ceo']=df0['text'].apply(lambda x: get_ceo(x))\n",
    "df0['overbook']=df0['text'].apply(lambda x: get_overbook(x))"
   ]
  },
  {
   "cell_type": "code",
   "execution_count": 313,
   "metadata": {
    "collapsed": false
   },
   "outputs": [],
   "source": [
    "df0['sum']=df0['united']+df0['flight']+df0['passenger']+df0['airline']+df0['ceo']+df0['overbook']"
   ]
  },
  {
   "cell_type": "code",
   "execution_count": 314,
   "metadata": {
    "collapsed": false
   },
   "outputs": [],
   "source": [
    "df0=df0[df0['sum'] != 0]"
   ]
  },
  {
   "cell_type": "code",
   "execution_count": 315,
   "metadata": {
    "collapsed": false,
    "scrolled": true
   },
   "outputs": [
    {
     "data": {
      "text/html": [
       "<div>\n",
       "<table border=\"1\" class=\"dataframe\">\n",
       "  <thead>\n",
       "    <tr style=\"text-align: right;\">\n",
       "      <th></th>\n",
       "      <th>Unnamed: 0</th>\n",
       "      <th>id</th>\n",
       "      <th>name</th>\n",
       "      <th>created_at</th>\n",
       "      <th>text</th>\n",
       "      <th>country_code</th>\n",
       "      <th>long</th>\n",
       "      <th>latt</th>\n",
       "      <th>retweet_count</th>\n",
       "      <th>user_created</th>\n",
       "      <th>...</th>\n",
       "      <th>friends_count</th>\n",
       "      <th>user_language</th>\n",
       "      <th>favorite_count</th>\n",
       "      <th>united</th>\n",
       "      <th>flight</th>\n",
       "      <th>passenger</th>\n",
       "      <th>airline</th>\n",
       "      <th>ceo</th>\n",
       "      <th>overbook</th>\n",
       "      <th>sum</th>\n",
       "    </tr>\n",
       "  </thead>\n",
       "  <tbody>\n",
       "    <tr>\n",
       "      <th>0</th>\n",
       "      <td>0</td>\n",
       "      <td>851471781827420160</td>\n",
       "      <td>United</td>\n",
       "      <td>Mon Apr 10 16:27:47 +0000 2017</td>\n",
       "      <td>United CEO response to United Express Flight 3...</td>\n",
       "      <td>US</td>\n",
       "      <td>-95.823268</td>\n",
       "      <td>29.522325</td>\n",
       "      <td>21757</td>\n",
       "      <td>Fri Mar 04 21:23:11 +0000 2011</td>\n",
       "      <td>...</td>\n",
       "      <td>46648</td>\n",
       "      <td>en</td>\n",
       "      <td>7840</td>\n",
       "      <td>1</td>\n",
       "      <td>1</td>\n",
       "      <td>0</td>\n",
       "      <td>0</td>\n",
       "      <td>1</td>\n",
       "      <td>0</td>\n",
       "      <td>3</td>\n",
       "    </tr>\n",
       "    <tr>\n",
       "      <th>1</th>\n",
       "      <td>1</td>\n",
       "      <td>851875102769721344</td>\n",
       "      <td>United</td>\n",
       "      <td>Tue Apr 11 19:10:26 +0000 2017</td>\n",
       "      <td>United CEO Oscar Munoz: I’m sorry. We will fix...</td>\n",
       "      <td>US</td>\n",
       "      <td>-95.823268</td>\n",
       "      <td>29.522325</td>\n",
       "      <td>3098</td>\n",
       "      <td>Fri Mar 04 21:23:11 +0000 2011</td>\n",
       "      <td>...</td>\n",
       "      <td>46648</td>\n",
       "      <td>en</td>\n",
       "      <td>4774</td>\n",
       "      <td>1</td>\n",
       "      <td>0</td>\n",
       "      <td>0</td>\n",
       "      <td>0</td>\n",
       "      <td>1</td>\n",
       "      <td>0</td>\n",
       "      <td>2</td>\n",
       "    </tr>\n",
       "    <tr>\n",
       "      <th>2</th>\n",
       "      <td>2</td>\n",
       "      <td>851383383888285696</td>\n",
       "      <td>United</td>\n",
       "      <td>Mon Apr 10 10:36:31 +0000 2017</td>\n",
       "      <td>@USAnonymous Flight 3411 from Chicago to Louis...</td>\n",
       "      <td>0</td>\n",
       "      <td>0.000000</td>\n",
       "      <td>0.000000</td>\n",
       "      <td>1373</td>\n",
       "      <td>Fri Mar 04 21:23:11 +0000 2011</td>\n",
       "      <td>...</td>\n",
       "      <td>46648</td>\n",
       "      <td>en</td>\n",
       "      <td>852</td>\n",
       "      <td>0</td>\n",
       "      <td>1</td>\n",
       "      <td>0</td>\n",
       "      <td>0</td>\n",
       "      <td>0</td>\n",
       "      <td>1</td>\n",
       "      <td>2</td>\n",
       "    </tr>\n",
       "    <tr>\n",
       "      <th>3</th>\n",
       "      <td>3</td>\n",
       "      <td>851947964599648256</td>\n",
       "      <td>Triston</td>\n",
       "      <td>Tue Apr 11 23:59:57 +0000 2017</td>\n",
       "      <td>RT @UnitedOverBooks: now boarding flight 3411 ...</td>\n",
       "      <td>0</td>\n",
       "      <td>0.000000</td>\n",
       "      <td>0.000000</td>\n",
       "      <td>2235</td>\n",
       "      <td>Sun Jan 01 02:36:00 +0000 2012</td>\n",
       "      <td>...</td>\n",
       "      <td>987</td>\n",
       "      <td>en</td>\n",
       "      <td>0</td>\n",
       "      <td>1</td>\n",
       "      <td>1</td>\n",
       "      <td>0</td>\n",
       "      <td>0</td>\n",
       "      <td>0</td>\n",
       "      <td>1</td>\n",
       "      <td>3</td>\n",
       "    </tr>\n",
       "    <tr>\n",
       "      <th>4</th>\n",
       "      <td>4</td>\n",
       "      <td>851947959851921408</td>\n",
       "      <td>TΞddy Rosenthal</td>\n",
       "      <td>Tue Apr 11 23:59:56 +0000 2017</td>\n",
       "      <td>RT @UnitedOverBooks: now boarding flight 3411 ...</td>\n",
       "      <td>0</td>\n",
       "      <td>0.000000</td>\n",
       "      <td>0.000000</td>\n",
       "      <td>2235</td>\n",
       "      <td>Thu Jul 09 15:01:43 +0000 2015</td>\n",
       "      <td>...</td>\n",
       "      <td>227</td>\n",
       "      <td>en</td>\n",
       "      <td>0</td>\n",
       "      <td>1</td>\n",
       "      <td>1</td>\n",
       "      <td>0</td>\n",
       "      <td>0</td>\n",
       "      <td>0</td>\n",
       "      <td>1</td>\n",
       "      <td>3</td>\n",
       "    </tr>\n",
       "  </tbody>\n",
       "</table>\n",
       "<p>5 rows × 21 columns</p>\n",
       "</div>"
      ],
      "text/plain": [
       "   Unnamed: 0                  id             name  \\\n",
       "0           0  851471781827420160           United   \n",
       "1           1  851875102769721344           United   \n",
       "2           2  851383383888285696           United   \n",
       "3           3  851947964599648256          Triston   \n",
       "4           4  851947959851921408  TΞddy Rosenthal   \n",
       "\n",
       "                       created_at  \\\n",
       "0  Mon Apr 10 16:27:47 +0000 2017   \n",
       "1  Tue Apr 11 19:10:26 +0000 2017   \n",
       "2  Mon Apr 10 10:36:31 +0000 2017   \n",
       "3  Tue Apr 11 23:59:57 +0000 2017   \n",
       "4  Tue Apr 11 23:59:56 +0000 2017   \n",
       "\n",
       "                                                text country_code       long  \\\n",
       "0  United CEO response to United Express Flight 3...           US -95.823268   \n",
       "1  United CEO Oscar Munoz: I’m sorry. We will fix...           US -95.823268   \n",
       "2  @USAnonymous Flight 3411 from Chicago to Louis...            0   0.000000   \n",
       "3  RT @UnitedOverBooks: now boarding flight 3411 ...            0   0.000000   \n",
       "4  RT @UnitedOverBooks: now boarding flight 3411 ...            0   0.000000   \n",
       "\n",
       "        latt  retweet_count                    user_created ...   \\\n",
       "0  29.522325          21757  Fri Mar 04 21:23:11 +0000 2011 ...    \n",
       "1  29.522325           3098  Fri Mar 04 21:23:11 +0000 2011 ...    \n",
       "2   0.000000           1373  Fri Mar 04 21:23:11 +0000 2011 ...    \n",
       "3   0.000000           2235  Sun Jan 01 02:36:00 +0000 2012 ...    \n",
       "4   0.000000           2235  Thu Jul 09 15:01:43 +0000 2015 ...    \n",
       "\n",
       "   friends_count  user_language favorite_count  united  flight  passenger  \\\n",
       "0          46648             en           7840       1       1          0   \n",
       "1          46648             en           4774       1       0          0   \n",
       "2          46648             en            852       0       1          0   \n",
       "3            987             en              0       1       1          0   \n",
       "4            227             en              0       1       1          0   \n",
       "\n",
       "   airline  ceo  overbook  sum  \n",
       "0        0    1         0    3  \n",
       "1        0    1         0    2  \n",
       "2        0    0         1    2  \n",
       "3        0    0         1    3  \n",
       "4        0    0         1    3  \n",
       "\n",
       "[5 rows x 21 columns]"
      ]
     },
     "execution_count": 315,
     "metadata": {},
     "output_type": "execute_result"
    }
   ],
   "source": [
    "df0.head()"
   ]
  },
  {
   "cell_type": "code",
   "execution_count": 316,
   "metadata": {
    "collapsed": false
   },
   "outputs": [
    {
     "data": {
      "text/plain": [
       "25163"
      ]
     },
     "execution_count": 316,
     "metadata": {},
     "output_type": "execute_result"
    }
   ],
   "source": [
    "len(df0)"
   ]
  },
  {
   "cell_type": "markdown",
   "metadata": {},
   "source": [
    "### Catagories tweets by keywords\u0010"
   ]
  },
  {
   "cell_type": "code",
   "execution_count": 317,
   "metadata": {
    "collapsed": true
   },
   "outputs": [],
   "source": [
    "df1=df0.loc[:, ['created_at','text','united','flight','passenger','airline','ceo','overbook']]"
   ]
  },
  {
   "cell_type": "code",
   "execution_count": 318,
   "metadata": {
    "collapsed": false
   },
   "outputs": [
    {
     "data": {
      "text/html": [
       "<div>\n",
       "<table border=\"1\" class=\"dataframe\">\n",
       "  <thead>\n",
       "    <tr style=\"text-align: right;\">\n",
       "      <th></th>\n",
       "      <th>created_at</th>\n",
       "      <th>text</th>\n",
       "      <th>united</th>\n",
       "      <th>flight</th>\n",
       "      <th>passenger</th>\n",
       "      <th>airline</th>\n",
       "      <th>ceo</th>\n",
       "      <th>overbook</th>\n",
       "    </tr>\n",
       "  </thead>\n",
       "  <tbody>\n",
       "    <tr>\n",
       "      <th>0</th>\n",
       "      <td>Mon Apr 10 16:27:47 +0000 2017</td>\n",
       "      <td>United CEO response to United Express Flight 3...</td>\n",
       "      <td>1</td>\n",
       "      <td>1</td>\n",
       "      <td>0</td>\n",
       "      <td>0</td>\n",
       "      <td>1</td>\n",
       "      <td>0</td>\n",
       "    </tr>\n",
       "    <tr>\n",
       "      <th>1</th>\n",
       "      <td>Tue Apr 11 19:10:26 +0000 2017</td>\n",
       "      <td>United CEO Oscar Munoz: I’m sorry. We will fix...</td>\n",
       "      <td>1</td>\n",
       "      <td>0</td>\n",
       "      <td>0</td>\n",
       "      <td>0</td>\n",
       "      <td>1</td>\n",
       "      <td>0</td>\n",
       "    </tr>\n",
       "    <tr>\n",
       "      <th>2</th>\n",
       "      <td>Mon Apr 10 10:36:31 +0000 2017</td>\n",
       "      <td>@USAnonymous Flight 3411 from Chicago to Louis...</td>\n",
       "      <td>0</td>\n",
       "      <td>1</td>\n",
       "      <td>0</td>\n",
       "      <td>0</td>\n",
       "      <td>0</td>\n",
       "      <td>1</td>\n",
       "    </tr>\n",
       "    <tr>\n",
       "      <th>3</th>\n",
       "      <td>Tue Apr 11 23:59:57 +0000 2017</td>\n",
       "      <td>RT @UnitedOverBooks: now boarding flight 3411 ...</td>\n",
       "      <td>1</td>\n",
       "      <td>1</td>\n",
       "      <td>0</td>\n",
       "      <td>0</td>\n",
       "      <td>0</td>\n",
       "      <td>1</td>\n",
       "    </tr>\n",
       "    <tr>\n",
       "      <th>4</th>\n",
       "      <td>Tue Apr 11 23:59:56 +0000 2017</td>\n",
       "      <td>RT @UnitedOverBooks: now boarding flight 3411 ...</td>\n",
       "      <td>1</td>\n",
       "      <td>1</td>\n",
       "      <td>0</td>\n",
       "      <td>0</td>\n",
       "      <td>0</td>\n",
       "      <td>1</td>\n",
       "    </tr>\n",
       "  </tbody>\n",
       "</table>\n",
       "</div>"
      ],
      "text/plain": [
       "                       created_at  \\\n",
       "0  Mon Apr 10 16:27:47 +0000 2017   \n",
       "1  Tue Apr 11 19:10:26 +0000 2017   \n",
       "2  Mon Apr 10 10:36:31 +0000 2017   \n",
       "3  Tue Apr 11 23:59:57 +0000 2017   \n",
       "4  Tue Apr 11 23:59:56 +0000 2017   \n",
       "\n",
       "                                                text  united  flight  \\\n",
       "0  United CEO response to United Express Flight 3...       1       1   \n",
       "1  United CEO Oscar Munoz: I’m sorry. We will fix...       1       0   \n",
       "2  @USAnonymous Flight 3411 from Chicago to Louis...       0       1   \n",
       "3  RT @UnitedOverBooks: now boarding flight 3411 ...       1       1   \n",
       "4  RT @UnitedOverBooks: now boarding flight 3411 ...       1       1   \n",
       "\n",
       "   passenger  airline  ceo  overbook  \n",
       "0          0        0    1         0  \n",
       "1          0        0    1         0  \n",
       "2          0        0    0         1  \n",
       "3          0        0    0         1  \n",
       "4          0        0    0         1  "
      ]
     },
     "execution_count": 318,
     "metadata": {},
     "output_type": "execute_result"
    }
   ],
   "source": [
    "df1.head()"
   ]
  },
  {
   "cell_type": "markdown",
   "metadata": {},
   "source": [
    "### Use the trained classifier to check each tweet, 1 stands for positive and -1 stands for negative. Get the tweet date of each text. Add token for future caculation."
   ]
  },
  {
   "cell_type": "code",
   "execution_count": 319,
   "metadata": {
    "collapsed": true
   },
   "outputs": [],
   "source": [
    "def get_attitude(x):\n",
    "    if classifier.classify(x)=='pos':\n",
    "        return 1\n",
    "    else:\n",
    "        return -1"
   ]
  },
  {
   "cell_type": "code",
   "execution_count": 320,
   "metadata": {
    "collapsed": true
   },
   "outputs": [],
   "source": [
    "def get_date(x):\n",
    "    return x[8:10] "
   ]
  },
  {
   "cell_type": "code",
   "execution_count": 353,
   "metadata": {
    "collapsed": false
   },
   "outputs": [],
   "source": [
    "df2=df1[:10000]"
   ]
  },
  {
   "cell_type": "code",
   "execution_count": 354,
   "metadata": {
    "collapsed": true
   },
   "outputs": [],
   "source": [
    "df3=df2.loc[:, ['created_at','text','united','flight','passenger','airline','ceo','overbook']]"
   ]
  },
  {
   "cell_type": "code",
   "execution_count": 355,
   "metadata": {
    "collapsed": false
   },
   "outputs": [],
   "source": [
    "df3['attitude']=df2['text'].apply(lambda x: get_attitude(x))"
   ]
  },
  {
   "cell_type": "code",
   "execution_count": 356,
   "metadata": {
    "collapsed": false
   },
   "outputs": [],
   "source": [
    "df3['token']=1"
   ]
  },
  {
   "cell_type": "code",
   "execution_count": 357,
   "metadata": {
    "collapsed": true
   },
   "outputs": [],
   "source": [
    "df3['date']=df3['created_at'].apply(lambda x: get_date(x))"
   ]
  },
  {
   "cell_type": "code",
   "execution_count": 358,
   "metadata": {
    "collapsed": false
   },
   "outputs": [
    {
     "data": {
      "text/html": [
       "<div>\n",
       "<table border=\"1\" class=\"dataframe\">\n",
       "  <thead>\n",
       "    <tr style=\"text-align: right;\">\n",
       "      <th></th>\n",
       "      <th>created_at</th>\n",
       "      <th>text</th>\n",
       "      <th>united</th>\n",
       "      <th>flight</th>\n",
       "      <th>passenger</th>\n",
       "      <th>airline</th>\n",
       "      <th>ceo</th>\n",
       "      <th>overbook</th>\n",
       "      <th>attitude</th>\n",
       "      <th>token</th>\n",
       "      <th>date</th>\n",
       "    </tr>\n",
       "  </thead>\n",
       "  <tbody>\n",
       "    <tr>\n",
       "      <th>0</th>\n",
       "      <td>Mon Apr 10 16:27:47 +0000 2017</td>\n",
       "      <td>United CEO response to United Express Flight 3...</td>\n",
       "      <td>1</td>\n",
       "      <td>1</td>\n",
       "      <td>0</td>\n",
       "      <td>0</td>\n",
       "      <td>1</td>\n",
       "      <td>0</td>\n",
       "      <td>1</td>\n",
       "      <td>1</td>\n",
       "      <td>10</td>\n",
       "    </tr>\n",
       "    <tr>\n",
       "      <th>1</th>\n",
       "      <td>Tue Apr 11 19:10:26 +0000 2017</td>\n",
       "      <td>United CEO Oscar Munoz: I’m sorry. We will fix...</td>\n",
       "      <td>1</td>\n",
       "      <td>0</td>\n",
       "      <td>0</td>\n",
       "      <td>0</td>\n",
       "      <td>1</td>\n",
       "      <td>0</td>\n",
       "      <td>1</td>\n",
       "      <td>1</td>\n",
       "      <td>11</td>\n",
       "    </tr>\n",
       "    <tr>\n",
       "      <th>2</th>\n",
       "      <td>Mon Apr 10 10:36:31 +0000 2017</td>\n",
       "      <td>@USAnonymous Flight 3411 from Chicago to Louis...</td>\n",
       "      <td>0</td>\n",
       "      <td>1</td>\n",
       "      <td>0</td>\n",
       "      <td>0</td>\n",
       "      <td>0</td>\n",
       "      <td>1</td>\n",
       "      <td>1</td>\n",
       "      <td>1</td>\n",
       "      <td>10</td>\n",
       "    </tr>\n",
       "    <tr>\n",
       "      <th>3</th>\n",
       "      <td>Tue Apr 11 23:59:57 +0000 2017</td>\n",
       "      <td>RT @UnitedOverBooks: now boarding flight 3411 ...</td>\n",
       "      <td>1</td>\n",
       "      <td>1</td>\n",
       "      <td>0</td>\n",
       "      <td>0</td>\n",
       "      <td>0</td>\n",
       "      <td>1</td>\n",
       "      <td>1</td>\n",
       "      <td>1</td>\n",
       "      <td>11</td>\n",
       "    </tr>\n",
       "    <tr>\n",
       "      <th>4</th>\n",
       "      <td>Tue Apr 11 23:59:56 +0000 2017</td>\n",
       "      <td>RT @UnitedOverBooks: now boarding flight 3411 ...</td>\n",
       "      <td>1</td>\n",
       "      <td>1</td>\n",
       "      <td>0</td>\n",
       "      <td>0</td>\n",
       "      <td>0</td>\n",
       "      <td>1</td>\n",
       "      <td>1</td>\n",
       "      <td>1</td>\n",
       "      <td>11</td>\n",
       "    </tr>\n",
       "  </tbody>\n",
       "</table>\n",
       "</div>"
      ],
      "text/plain": [
       "                       created_at  \\\n",
       "0  Mon Apr 10 16:27:47 +0000 2017   \n",
       "1  Tue Apr 11 19:10:26 +0000 2017   \n",
       "2  Mon Apr 10 10:36:31 +0000 2017   \n",
       "3  Tue Apr 11 23:59:57 +0000 2017   \n",
       "4  Tue Apr 11 23:59:56 +0000 2017   \n",
       "\n",
       "                                                text  united  flight  \\\n",
       "0  United CEO response to United Express Flight 3...       1       1   \n",
       "1  United CEO Oscar Munoz: I’m sorry. We will fix...       1       0   \n",
       "2  @USAnonymous Flight 3411 from Chicago to Louis...       0       1   \n",
       "3  RT @UnitedOverBooks: now boarding flight 3411 ...       1       1   \n",
       "4  RT @UnitedOverBooks: now boarding flight 3411 ...       1       1   \n",
       "\n",
       "   passenger  airline  ceo  overbook  attitude  token date  \n",
       "0          0        0    1         0         1      1   10  \n",
       "1          0        0    1         0         1      1   11  \n",
       "2          0        0    0         1         1      1   10  \n",
       "3          0        0    0         1         1      1   11  \n",
       "4          0        0    0         1         1      1   11  "
      ]
     },
     "execution_count": 358,
     "metadata": {},
     "output_type": "execute_result"
    }
   ],
   "source": [
    "df3.head()"
   ]
  },
  {
   "cell_type": "markdown",
   "metadata": {},
   "source": [
    "### Group the token by different keyword and attitude. Store the positive and negative attitude in two list"
   ]
  },
  {
   "cell_type": "code",
   "execution_count": 359,
   "metadata": {
    "collapsed": true
   },
   "outputs": [],
   "source": [
    "df4=DataFrame(df3.groupby(['united','attitude'])['token'].sum())\n",
    "df5=DataFrame(df3.groupby(['flight','attitude'])['token'].sum())\n",
    "df6=DataFrame(df3.groupby(['passenger','attitude'])['token'].sum())\n",
    "df7=DataFrame(df3.groupby(['airline','attitude'])['token'].sum())\n",
    "df8=DataFrame(df3.groupby(['ceo','attitude'])['token'].sum())\n",
    "df9=DataFrame(df3.groupby(['overbook','attitude'])['token'].sum())"
   ]
  },
  {
   "cell_type": "code",
   "execution_count": 375,
   "metadata": {
    "collapsed": false,
    "scrolled": false
   },
   "outputs": [
    {
     "data": {
      "text/html": [
       "<div>\n",
       "<table border=\"1\" class=\"dataframe\">\n",
       "  <thead>\n",
       "    <tr style=\"text-align: right;\">\n",
       "      <th></th>\n",
       "      <th></th>\n",
       "      <th>token</th>\n",
       "    </tr>\n",
       "    <tr>\n",
       "      <th>passenger</th>\n",
       "      <th>attitude</th>\n",
       "      <th></th>\n",
       "    </tr>\n",
       "  </thead>\n",
       "  <tbody>\n",
       "    <tr>\n",
       "      <th rowspan=\"2\" valign=\"top\">0</th>\n",
       "      <th>-1</th>\n",
       "      <td>404</td>\n",
       "    </tr>\n",
       "    <tr>\n",
       "      <th>1</th>\n",
       "      <td>7584</td>\n",
       "    </tr>\n",
       "    <tr>\n",
       "      <th rowspan=\"2\" valign=\"top\">1</th>\n",
       "      <th>-1</th>\n",
       "      <td>50</td>\n",
       "    </tr>\n",
       "    <tr>\n",
       "      <th>1</th>\n",
       "      <td>1962</td>\n",
       "    </tr>\n",
       "  </tbody>\n",
       "</table>\n",
       "</div>"
      ],
      "text/plain": [
       "                    token\n",
       "passenger attitude       \n",
       "0         -1          404\n",
       "           1         7584\n",
       "1         -1           50\n",
       "           1         1962"
      ]
     },
     "execution_count": 375,
     "metadata": {},
     "output_type": "execute_result"
    }
   ],
   "source": [
    "df6.head()"
   ]
  },
  {
   "cell_type": "code",
   "execution_count": 385,
   "metadata": {
    "collapsed": false
   },
   "outputs": [],
   "source": [
    "list_pos=[df4['token'][2],df5['token'][2],df6.['token'][2],df7['token'][2],df8[1,-1][0],df9[1,-1][0]]\n",
    "list_neg=[-1*df4['token'][3],-1*df5['token'][3],-1*df6[1,1][0],-1*df7[1,1][0],-1*df8[1,1][0],-1*df9[1,1][0]]"
   ]
  },
  {
   "cell_type": "code",
   "execution_count": 386,
   "metadata": {
    "collapsed": false
   },
   "outputs": [
    {
     "data": {
      "text/plain": [
       "[-6802, -5159, -1962, -3680, -947, -776]"
      ]
     },
     "execution_count": 386,
     "metadata": {},
     "output_type": "execute_result"
    }
   ],
   "source": [
    "list_neg"
   ]
  },
  {
   "cell_type": "code",
   "execution_count": 388,
   "metadata": {
    "collapsed": false
   },
   "outputs": [
    {
     "data": {
      "text/plain": [
       "[256, 178, 50, 256, 23, 12]"
      ]
     },
     "execution_count": 388,
     "metadata": {},
     "output_type": "execute_result"
    }
   ],
   "source": [
    "list_pos"
   ]
  },
  {
   "cell_type": "markdown",
   "metadata": {},
   "source": [
    "# 5. Use this well trained classifier to check the tweets from people "
   ]
  },
  {
   "cell_type": "markdown",
   "metadata": {},
   "source": [
    "### Plot a fig to see people's attidued."
   ]
  },
  {
   "cell_type": "code",
   "execution_count": 446,
   "metadata": {
    "collapsed": false,
    "scrolled": true
   },
   "outputs": [
    {
     "data": {
      "image/png": "[encoded data removed]",
      "text/plain": [
       "<matplotlib.figure.Figure at 0x125b82b00>"
      ]
     },
     "metadata": {},
     "output_type": "display_data"
    }
   ],
   "source": [
    "plt.figure(figsize=(20,8))\n",
    "x = range(6)\n",
    "ax = plt.subplot(111)\n",
    "p1=ax.bar(x, list_neg, facecolor='#9999ff', edgecolor='white')\n",
    "p2=ax.bar(x, list_pos, facecolor='#ff9999', edgecolor='white')\n",
    "plt.legend([p1, p2], ('negative', 'positive'))\n",
    "my_xticks = list_key\n",
    "plt.xticks(x, my_xticks)\n",
    "ax.set_title('Positive and Negative Tweets by Different Keyword', fontsize=28,\n",
    "             fontweight='bold')\n",
    "plt.xlabel('Services about United Airline')\n",
    "plt.ylabel('Distribution of tweeters attitudes of each aspect')\n",
    "plt.savefig('Attitude.jpg')\n",
    "plt.show()"
   ]
  },
  {
   "cell_type": "code",
   "execution_count": 3,
   "metadata": {
    "collapsed": false
   },
   "outputs": [],
   "source": [
    "classifier_f = open(\"/Users/lisha/Desktop/Final/classifier_lisha.pickle\", \"rb\")\n",
    "classifier = pickle.load(classifier_f)\n",
    "classifier_f.close()"
   ]
  },
  {
   "cell_type": "code",
   "execution_count": 402,
   "metadata": {
    "collapsed": false
   },
   "outputs": [],
   "source": [
    "df10=DataFrame(df3.groupby(['date','attitude'])['token'].sum())"
   ]
  },
  {
   "cell_type": "code",
   "execution_count": 414,
   "metadata": {
    "collapsed": false
   },
   "outputs": [
    {
     "data": {
      "text/html": [
       "<div>\n",
       "<table border=\"1\" class=\"dataframe\">\n",
       "  <thead>\n",
       "    <tr style=\"text-align: right;\">\n",
       "      <th></th>\n",
       "      <th></th>\n",
       "      <th>token</th>\n",
       "    </tr>\n",
       "    <tr>\n",
       "      <th>date</th>\n",
       "      <th>attitude</th>\n",
       "      <th></th>\n",
       "    </tr>\n",
       "  </thead>\n",
       "  <tbody>\n",
       "    <tr>\n",
       "      <th rowspan=\"2\" valign=\"top\">07</th>\n",
       "      <th>-1</th>\n",
       "      <td>14</td>\n",
       "    </tr>\n",
       "    <tr>\n",
       "      <th>1</th>\n",
       "      <td>79</td>\n",
       "    </tr>\n",
       "    <tr>\n",
       "      <th rowspan=\"2\" valign=\"top\">08</th>\n",
       "      <th>-1</th>\n",
       "      <td>8</td>\n",
       "    </tr>\n",
       "    <tr>\n",
       "      <th>1</th>\n",
       "      <td>82</td>\n",
       "    </tr>\n",
       "    <tr>\n",
       "      <th>09</th>\n",
       "      <th>-1</th>\n",
       "      <td>6</td>\n",
       "    </tr>\n",
       "  </tbody>\n",
       "</table>\n",
       "</div>"
      ],
      "text/plain": [
       "               token\n",
       "date attitude       \n",
       "07   -1           14\n",
       "      1           79\n",
       "08   -1            8\n",
       "      1           82\n",
       "09   -1            6"
      ]
     },
     "execution_count": 414,
     "metadata": {},
     "output_type": "execute_result"
    }
   ],
   "source": [
    "df10.head()"
   ]
  },
  {
   "cell_type": "code",
   "execution_count": 433,
   "metadata": {
    "collapsed": false
   },
   "outputs": [],
   "source": [
    "y1=[]\n",
    "y2=[]\n",
    "j=-2\n",
    "for i in range(int(len(df10)/2)):\n",
    "    y1.append(df10['token'][j+2])\n",
    "    y2.append(df10['token'][j+2+1])\n",
    "    j=j+2\n",
    "x2=list(DataFrame(df3.groupby(['date'])['token'].sum()).index)"
   ]
  },
  {
   "cell_type": "code",
   "execution_count": 435,
   "metadata": {
    "collapsed": false
   },
   "outputs": [
    {
     "data": {
      "text/plain": [
       "[14, 8, 6, 30, 57, 32, 96, 90, 14, 19, 81, 7]"
      ]
     },
     "execution_count": 435,
     "metadata": {},
     "output_type": "execute_result"
    }
   ],
   "source": [
    "y1"
   ]
  },
  {
   "cell_type": "code",
   "execution_count": 436,
   "metadata": {
    "collapsed": false
   },
   "outputs": [
    {
     "data": {
      "text/plain": [
       "[79, 82, 85, 429, 952, 1183, 1159, 1315, 1304, 863, 1714, 381]"
      ]
     },
     "execution_count": 436,
     "metadata": {},
     "output_type": "execute_result"
    }
   ],
   "source": [
    "y2"
   ]
  },
  {
   "cell_type": "code",
   "execution_count": 434,
   "metadata": {
    "collapsed": false
   },
   "outputs": [
    {
     "data": {
      "text/plain": [
       "['07', '08', '09', '10', '11', '12', '13', '14', '15', '16', '17', '18']"
      ]
     },
     "execution_count": 434,
     "metadata": {},
     "output_type": "execute_result"
    }
   ],
   "source": [
    "x2"
   ]
  },
  {
   "cell_type": "code",
   "execution_count": 443,
   "metadata": {
    "collapsed": false
   },
   "outputs": [
    {
     "data": {
      "image/png": "[encoded data removed]",
      "text/plain": [
       "<matplotlib.figure.Figure at 0x11b1d97b8>"
      ]
     },
     "metadata": {},
     "output_type": "display_data"
    }
   ],
   "source": [
    "plt.style.use('seaborn-darkgrid')\n",
    "plt.subplots(figsize=(20,8))\n",
    "ax1 = plt.subplot(1,1,1)\n",
    "ax1.plot(x2, y1, linewidth=2, linestyle='-',  label='Positive', color='Yellow')\n",
    "ax1.plot(x2, y2, linewidth=2, linestyle='-',  label='Negative', color='Green')\n",
    "ax1.set_title('Trend of Attitude towards UA3411 Incident', fontsize=28,\n",
    "             fontweight='bold')\n",
    "plt.xlabel('Month (Apr 07 2017 - Apr 18 2017)', fontsize=20)\n",
    "plt.ylabel('Tweets', fontsize=20)\n",
    "ax1.set_xticks(np.arange(len(x2)))\n",
    "ax1.set_xticklabels(['Apr 07','Apr 08','Apr 09','Apr 10','Apr 11','Apr 12','Apr 13','Apr 14','Apr 15','Apr 16','Apr 17','Apr 18'],fontsize=15)\n",
    "plt.legend(loc='upper right', fancybox=True, fontsize=15)\n",
    "plt.savefig('Trend_Attitude.jpg')\n",
    "plt.show()"
   ]
  },
  {
   "cell_type": "code",
   "execution_count": null,
   "metadata": {
    "collapsed": true
   },
   "outputs": [],
   "source": []
  }
 ],
 "metadata": {
  "kernelspec": {
   "display_name": "Python 3",
   "language": "python",
   "name": "python3"
  },
  "language_info": {
   "codemirror_mode": {
    "name": "ipython",
    "version": 3
   },
   "file_extension": ".py",
   "mimetype": "text/x-python",
   "name": "python",
   "nbconvert_exporter": "python",
   "pygments_lexer": "ipython3",
   "version": "3.6.0"
  }
 },
 "nbformat": 4,
 "nbformat_minor": 2
}
